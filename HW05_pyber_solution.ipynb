{
 "cells": [
  {
   "cell_type": "markdown",
   "metadata": {},
   "source": [
    "### Analysis"
   ]
  },
  {
   "cell_type": "markdown",
   "metadata": {},
   "source": [
    "* On average, urban cities have a lot more drivers per city than suburban and rural cities.\n",
    "* Fare per ride in urban cities tend to be lower than in subruban and rural cities.\n",
    "* If fare is only dependent on ride distance, then this would suggest that urban rides tend to be shorter on average than suburban and rural rides; if fare is also determined by market competition, then this data would suggest that urban drivers have much more competition within each city than do rural and suburban drivers."
   ]
  },
  {
   "cell_type": "code",
   "execution_count": 1,
   "metadata": {
    "collapsed": true
   },
   "outputs": [],
   "source": [
    "# Import dependencies\n",
    "import pandas as pd\n",
    "import numpy as np\n",
    "import matplotlib.pyplot as plt"
   ]
  },
  {
   "cell_type": "code",
   "execution_count": 2,
   "metadata": {
    "collapsed": true
   },
   "outputs": [],
   "source": [
    "# Load both files\n",
    "ride_df = pd.read_csv(\"raw_data/ride_data.csv\")\n",
    "city_df = pd.read_csv(\"raw_data/city_data.csv\")"
   ]
  },
  {
   "cell_type": "code",
   "execution_count": 3,
   "metadata": {},
   "outputs": [
    {
     "name": "stdout",
     "output_type": "stream",
     "text": [
      "Index(['city', 'date', 'fare', 'ride_id'], dtype='object')\n",
      "2375\n"
     ]
    }
   ],
   "source": [
    "# Take a look at the rides file\n",
    "print(ride_df.columns)\n",
    "print(len(ride_df))\n",
    "# ride_df.head()"
   ]
  },
  {
   "cell_type": "code",
   "execution_count": 4,
   "metadata": {},
   "outputs": [
    {
     "name": "stdout",
     "output_type": "stream",
     "text": [
      "Index(['city', 'driver_count', 'type'], dtype='object')\n",
      "126\n"
     ]
    }
   ],
   "source": [
    "# Take a look at the cities file\n",
    "print(city_df.columns)\n",
    "print(len(city_df))\n",
    "\n",
    "# city_df.head()"
   ]
  },
  {
   "cell_type": "code",
   "execution_count": 5,
   "metadata": {},
   "outputs": [
    {
     "name": "stdout",
     "output_type": "stream",
     "text": [
      "2407\n"
     ]
    },
    {
     "data": {
      "text/html": [
       "<div>\n",
       "<style>\n",
       "    .dataframe thead tr:only-child th {\n",
       "        text-align: right;\n",
       "    }\n",
       "\n",
       "    .dataframe thead th {\n",
       "        text-align: left;\n",
       "    }\n",
       "\n",
       "    .dataframe tbody tr th {\n",
       "        vertical-align: top;\n",
       "    }\n",
       "</style>\n",
       "<table border=\"1\" class=\"dataframe\">\n",
       "  <thead>\n",
       "    <tr style=\"text-align: right;\">\n",
       "      <th></th>\n",
       "      <th>city</th>\n",
       "      <th>date</th>\n",
       "      <th>fare</th>\n",
       "      <th>ride_id</th>\n",
       "      <th>driver_count</th>\n",
       "      <th>type</th>\n",
       "    </tr>\n",
       "  </thead>\n",
       "  <tbody>\n",
       "    <tr>\n",
       "      <th>0</th>\n",
       "      <td>Sarabury</td>\n",
       "      <td>2016-01-16 13:49:27</td>\n",
       "      <td>38.35</td>\n",
       "      <td>5403689035038</td>\n",
       "      <td>46</td>\n",
       "      <td>Urban</td>\n",
       "    </tr>\n",
       "    <tr>\n",
       "      <th>1</th>\n",
       "      <td>South Roy</td>\n",
       "      <td>2016-01-02 18:42:34</td>\n",
       "      <td>17.49</td>\n",
       "      <td>4036272335942</td>\n",
       "      <td>35</td>\n",
       "      <td>Urban</td>\n",
       "    </tr>\n",
       "    <tr>\n",
       "      <th>2</th>\n",
       "      <td>Wiseborough</td>\n",
       "      <td>2016-01-21 17:35:29</td>\n",
       "      <td>44.18</td>\n",
       "      <td>3645042422587</td>\n",
       "      <td>55</td>\n",
       "      <td>Urban</td>\n",
       "    </tr>\n",
       "    <tr>\n",
       "      <th>3</th>\n",
       "      <td>Spencertown</td>\n",
       "      <td>2016-07-31 14:53:22</td>\n",
       "      <td>6.87</td>\n",
       "      <td>2242596575892</td>\n",
       "      <td>68</td>\n",
       "      <td>Urban</td>\n",
       "    </tr>\n",
       "    <tr>\n",
       "      <th>4</th>\n",
       "      <td>Nguyenbury</td>\n",
       "      <td>2016-07-09 04:42:44</td>\n",
       "      <td>6.28</td>\n",
       "      <td>1543057793673</td>\n",
       "      <td>8</td>\n",
       "      <td>Urban</td>\n",
       "    </tr>\n",
       "  </tbody>\n",
       "</table>\n",
       "</div>"
      ],
      "text/plain": [
       "          city                 date   fare        ride_id  driver_count   type\n",
       "0     Sarabury  2016-01-16 13:49:27  38.35  5403689035038            46  Urban\n",
       "1    South Roy  2016-01-02 18:42:34  17.49  4036272335942            35  Urban\n",
       "2  Wiseborough  2016-01-21 17:35:29  44.18  3645042422587            55  Urban\n",
       "3  Spencertown  2016-07-31 14:53:22   6.87  2242596575892            68  Urban\n",
       "4   Nguyenbury  2016-07-09 04:42:44   6.28  1543057793673             8  Urban"
      ]
     },
     "execution_count": 5,
     "metadata": {},
     "output_type": "execute_result"
    }
   ],
   "source": [
    "# Merge the two dataframes by city\n",
    "comb_df = pd.merge(ride_df, city_df, on=\"city\", how=\"left\")\n",
    "\n",
    "# Check the length of comb_df against length of \n",
    "print(len(comb_df))\n",
    "\n",
    "comb_df.head()"
   ]
  },
  {
   "cell_type": "markdown",
   "metadata": {},
   "source": [
    "The length of the merged dataframe is not the same as the length of the rides dataframe. I suspect there might be repeats in the \"city\" column of the city dataframe."
   ]
  },
  {
   "cell_type": "code",
   "execution_count": 6,
   "metadata": {},
   "outputs": [
    {
     "data": {
      "text/html": [
       "<div>\n",
       "<style>\n",
       "    .dataframe thead tr:only-child th {\n",
       "        text-align: right;\n",
       "    }\n",
       "\n",
       "    .dataframe thead th {\n",
       "        text-align: left;\n",
       "    }\n",
       "\n",
       "    .dataframe tbody tr th {\n",
       "        vertical-align: top;\n",
       "    }\n",
       "</style>\n",
       "<table border=\"1\" class=\"dataframe\">\n",
       "  <thead>\n",
       "    <tr style=\"text-align: right;\">\n",
       "      <th></th>\n",
       "      <th>driver_count</th>\n",
       "      <th>type</th>\n",
       "    </tr>\n",
       "    <tr>\n",
       "      <th>city</th>\n",
       "      <th></th>\n",
       "      <th></th>\n",
       "    </tr>\n",
       "  </thead>\n",
       "  <tbody>\n",
       "    <tr>\n",
       "      <th>Port James</th>\n",
       "      <td>2</td>\n",
       "      <td>2</td>\n",
       "    </tr>\n",
       "    <tr>\n",
       "      <th>Alvarezhaven</th>\n",
       "      <td>1</td>\n",
       "      <td>1</td>\n",
       "    </tr>\n",
       "    <tr>\n",
       "      <th>Prattfurt</th>\n",
       "      <td>1</td>\n",
       "      <td>1</td>\n",
       "    </tr>\n",
       "    <tr>\n",
       "      <th>South Joseph</th>\n",
       "      <td>1</td>\n",
       "      <td>1</td>\n",
       "    </tr>\n",
       "    <tr>\n",
       "      <th>South Jennifer</th>\n",
       "      <td>1</td>\n",
       "      <td>1</td>\n",
       "    </tr>\n",
       "  </tbody>\n",
       "</table>\n",
       "</div>"
      ],
      "text/plain": [
       "                driver_count  type\n",
       "city                              \n",
       "Port James                 2     2\n",
       "Alvarezhaven               1     1\n",
       "Prattfurt                  1     1\n",
       "South Joseph               1     1\n",
       "South Jennifer             1     1"
      ]
     },
     "execution_count": 6,
     "metadata": {},
     "output_type": "execute_result"
    }
   ],
   "source": [
    "# Group by city name and see if any of them come up more than once\n",
    "city_check = city_df.groupby(\"city\")\n",
    "city_check.count().sort_values(\"type\", ascending=False).head()"
   ]
  },
  {
   "cell_type": "markdown",
   "metadata": {},
   "source": [
    "Yep, Port James came up twice. Let's look at it."
   ]
  },
  {
   "cell_type": "code",
   "execution_count": 7,
   "metadata": {},
   "outputs": [
    {
     "name": "stdout",
     "output_type": "stream",
     "text": [
      "           city  driver_count      type\n",
      "84   Port James            15  Suburban\n",
      "100  Port James             3  Suburban\n"
     ]
    }
   ],
   "source": [
    "# Look at the Port James rows\n",
    "print(city_df.loc[city_df[\"city\"] == \"Port James\"])"
   ]
  },
  {
   "cell_type": "markdown",
   "metadata": {},
   "source": [
    "Now, we don't know what's going on here. Maybe there are two cities by them name \"Port James\", or maybe it got recorded twice due to error. Either way, we will throw out all the data from Port James because it corrupts the data."
   ]
  },
  {
   "cell_type": "code",
   "execution_count": 8,
   "metadata": {
    "collapsed": true
   },
   "outputs": [],
   "source": [
    "# Get rid of the Port James ride data\n",
    "comb_df = comb_df[comb_df.city != \"Port James\"]\n",
    "# print(len(comb_df))"
   ]
  },
  {
   "cell_type": "code",
   "execution_count": 9,
   "metadata": {},
   "outputs": [
    {
     "data": {
      "text/html": [
       "<div>\n",
       "<style>\n",
       "    .dataframe thead tr:only-child th {\n",
       "        text-align: right;\n",
       "    }\n",
       "\n",
       "    .dataframe thead th {\n",
       "        text-align: left;\n",
       "    }\n",
       "\n",
       "    .dataframe tbody tr th {\n",
       "        vertical-align: top;\n",
       "    }\n",
       "</style>\n",
       "<table border=\"1\" class=\"dataframe\">\n",
       "  <thead>\n",
       "    <tr style=\"text-align: right;\">\n",
       "      <th></th>\n",
       "      <th>avg_fare</th>\n",
       "      <th>total_rides</th>\n",
       "      <th>drivers_per_city</th>\n",
       "      <th>type</th>\n",
       "    </tr>\n",
       "    <tr>\n",
       "      <th>city</th>\n",
       "      <th></th>\n",
       "      <th></th>\n",
       "      <th></th>\n",
       "      <th></th>\n",
       "    </tr>\n",
       "  </thead>\n",
       "  <tbody>\n",
       "    <tr>\n",
       "      <th>Alvarezhaven</th>\n",
       "      <td>23.928710</td>\n",
       "      <td>31</td>\n",
       "      <td>21</td>\n",
       "      <td>Urban</td>\n",
       "    </tr>\n",
       "    <tr>\n",
       "      <th>Alyssaberg</th>\n",
       "      <td>20.609615</td>\n",
       "      <td>26</td>\n",
       "      <td>67</td>\n",
       "      <td>Urban</td>\n",
       "    </tr>\n",
       "    <tr>\n",
       "      <th>Anitamouth</th>\n",
       "      <td>37.315556</td>\n",
       "      <td>9</td>\n",
       "      <td>16</td>\n",
       "      <td>Suburban</td>\n",
       "    </tr>\n",
       "    <tr>\n",
       "      <th>Antoniomouth</th>\n",
       "      <td>23.625000</td>\n",
       "      <td>22</td>\n",
       "      <td>21</td>\n",
       "      <td>Urban</td>\n",
       "    </tr>\n",
       "    <tr>\n",
       "      <th>Aprilchester</th>\n",
       "      <td>21.981579</td>\n",
       "      <td>19</td>\n",
       "      <td>49</td>\n",
       "      <td>Urban</td>\n",
       "    </tr>\n",
       "  </tbody>\n",
       "</table>\n",
       "</div>"
      ],
      "text/plain": [
       "               avg_fare  total_rides  drivers_per_city      type\n",
       "city                                                            \n",
       "Alvarezhaven  23.928710           31                21     Urban\n",
       "Alyssaberg    20.609615           26                67     Urban\n",
       "Anitamouth    37.315556            9                16  Suburban\n",
       "Antoniomouth  23.625000           22                21     Urban\n",
       "Aprilchester  21.981579           19                49     Urban"
      ]
     },
     "execution_count": 9,
     "metadata": {},
     "output_type": "execute_result"
    }
   ],
   "source": [
    "# Organize the data by city\n",
    "by_city = comb_df.groupby(\"city\")\n",
    "# by_city.count()\n",
    "\n",
    "# Make new dataframe to hold the information to plot\n",
    "# Start with 1st column, average fare\n",
    "by_city_df = pd.DataFrame(by_city[\"fare\"].mean())\n",
    "# Add total number of rides column\n",
    "by_city_df[\"total_rides\"] = by_city[\"ride_id\"].count()\n",
    "# Add total drivers per city column\n",
    "by_city_df[\"drivers_per_city\"] = by_city[\"driver_count\"].mean()\n",
    "\n",
    "# Create and format the city type dataframe\n",
    "city_type_df = city_df[[\"city\", \"type\"]]\n",
    "city_type_df.set_index(\"city\", inplace=True)\n",
    "\n",
    "# Add the Type column to the graph dataframe\n",
    "by_city_df = pd.merge(by_city_df, city_type_df, how=\"left\", left_index=True, right_index=True)\n",
    "\n",
    "# rename the average fare column\n",
    "by_city_df.rename(columns={\"fare\": \"avg_fare\"}, inplace=True)\n",
    "\n",
    "by_city_df.head()\n",
    "# city_type_df.head()"
   ]
  },
  {
   "cell_type": "code",
   "execution_count": 10,
   "metadata": {
    "collapsed": true
   },
   "outputs": [],
   "source": [
    "# Separate the dataframe into 3 by city type\n",
    "urban_df = by_city_df[by_city_df[\"type\"] == \"Urban\"]\n",
    "suburban_df = by_city_df[by_city_df[\"type\"] == \"Suburban\"]\n",
    "rural_df = by_city_df[by_city_df[\"type\"] == \"Rural\"]"
   ]
  },
  {
   "cell_type": "markdown",
   "metadata": {},
   "source": [
    "## Bubble Plot of Ride Sharing Data"
   ]
  },
  {
   "cell_type": "code",
   "execution_count": 21,
   "metadata": {},
   "outputs": [
    {
     "data": {
      "image/png": "[encoded data removed]",
      "text/plain": [
       "<matplotlib.figure.Figure at 0x22241f26a90>"
      ]
     },
     "metadata": {},
     "output_type": "display_data"
    }
   ],
   "source": [
    "# Set the plot size\n",
    "plt.figure(figsize=(7,5))\n",
    "\n",
    "# Plot the 3 sets of data\n",
    "urb_plt = plt.scatter(urban_df[\"total_rides\"], urban_df[\"avg_fare\"], \n",
    "                      s = urban_df[\"drivers_per_city\"]*2, \n",
    "                      alpha=0.6, label = \"Urban\", color=\"lightcoral\")\n",
    "subu_plt = plt.scatter(suburban_df[\"total_rides\"], suburban_df[\"avg_fare\"], \n",
    "                       s = suburban_df[\"drivers_per_city\"]*2, \n",
    "                       alpha=0.6, label = \"Suburban\", color=\"lightskyblue\")\n",
    "rur_plt = plt.scatter(rural_df[\"total_rides\"], rural_df[\"avg_fare\"], \n",
    "                      s = rural_df[\"drivers_per_city\"]*2, \n",
    "                      alpha=0.6, label = \"Rural\", color=\"gold\")\n",
    "\n",
    "# Title it\n",
    "plt.title(\"Pyber Ride Sharing Data\")\n",
    "\n",
    "# Set up axes\n",
    "plt.xlabel(\"Total Number of Rides per City\")\n",
    "plt.ylabel(\"Average Fare ($)\")\n",
    "plt.xlim(0, 35)\n",
    "plt.ylim(15, 55)\n",
    "\n",
    "# Show grid\n",
    "plt.grid(alpha=0.3)\n",
    "\n",
    "# Label legends\n",
    "legs = plt.legend(title=(\"City Type\"))\n",
    "legs.legendHandles[0]._sizes = [30]\n",
    "legs.legendHandles[1]._sizes = [30]\n",
    "legs.legendHandles[2]._sizes = [30]\n",
    "\n",
    "# Add Note\n",
    "plt.text(0, 5, s=\"Note: Bubble size correlates to each city's driver count\")\n",
    "\n",
    "# Show it\n",
    "plt.show()"
   ]
  },
  {
   "cell_type": "code",
   "execution_count": 12,
   "metadata": {},
   "outputs": [
    {
     "data": {
      "text/html": [
       "<div>\n",
       "<style>\n",
       "    .dataframe thead tr:only-child th {\n",
       "        text-align: right;\n",
       "    }\n",
       "\n",
       "    .dataframe thead th {\n",
       "        text-align: left;\n",
       "    }\n",
       "\n",
       "    .dataframe tbody tr th {\n",
       "        vertical-align: top;\n",
       "    }\n",
       "</style>\n",
       "<table border=\"1\" class=\"dataframe\">\n",
       "  <thead>\n",
       "    <tr style=\"text-align: right;\">\n",
       "      <th></th>\n",
       "      <th>fare_total</th>\n",
       "      <th>rides_count</th>\n",
       "      <th>driver_count</th>\n",
       "      <th>fare_pct</th>\n",
       "      <th>rides_pct</th>\n",
       "      <th>driver_pct</th>\n",
       "    </tr>\n",
       "    <tr>\n",
       "      <th>type</th>\n",
       "      <th></th>\n",
       "      <th></th>\n",
       "      <th></th>\n",
       "      <th></th>\n",
       "      <th></th>\n",
       "      <th></th>\n",
       "    </tr>\n",
       "  </thead>\n",
       "  <tbody>\n",
       "    <tr>\n",
       "      <th>Rural</th>\n",
       "      <td>4255.09</td>\n",
       "      <td>125</td>\n",
       "      <td>727</td>\n",
       "      <td>0.067936</td>\n",
       "      <td>0.053350</td>\n",
       "      <td>0.009774</td>\n",
       "    </tr>\n",
       "    <tr>\n",
       "      <th>Suburban</th>\n",
       "      <td>18300.07</td>\n",
       "      <td>593</td>\n",
       "      <td>9154</td>\n",
       "      <td>0.292177</td>\n",
       "      <td>0.253094</td>\n",
       "      <td>0.123067</td>\n",
       "    </tr>\n",
       "    <tr>\n",
       "      <th>Urban</th>\n",
       "      <td>40078.34</td>\n",
       "      <td>1625</td>\n",
       "      <td>64501</td>\n",
       "      <td>0.639887</td>\n",
       "      <td>0.693555</td>\n",
       "      <td>0.867159</td>\n",
       "    </tr>\n",
       "  </tbody>\n",
       "</table>\n",
       "</div>"
      ],
      "text/plain": [
       "          fare_total  rides_count  driver_count  fare_pct  rides_pct  \\\n",
       "type                                                                   \n",
       "Rural        4255.09          125           727  0.067936   0.053350   \n",
       "Suburban    18300.07          593          9154  0.292177   0.253094   \n",
       "Urban       40078.34         1625         64501  0.639887   0.693555   \n",
       "\n",
       "          driver_pct  \n",
       "type                  \n",
       "Rural       0.009774  \n",
       "Suburban    0.123067  \n",
       "Urban       0.867159  "
      ]
     },
     "execution_count": 12,
     "metadata": {},
     "output_type": "execute_result"
    }
   ],
   "source": [
    "# Group the data by city type\n",
    "by_type = comb_df.groupby(\"type\")\n",
    "\n",
    "# Make the data frame\n",
    "by_type_df = pd.DataFrame(by_type[\"fare\"].sum())\n",
    "by_type_df[\"rides_count\"] = by_type[\"ride_id\"].count()\n",
    "by_type_df[\"driver_count\"] = by_type[\"driver_count\"].sum()\n",
    "\n",
    "# It doesn't really matter, but for consistency, rename the fare total column\n",
    "by_type_df.rename(columns={\"fare\": \"fare_total\"}, inplace=True)\n",
    "\n",
    "# Fill in the percent columns\n",
    "by_type_df[\"fare_pct\"] = [row/by_type_df[\"fare_total\"].sum()  for row in by_type_df[\"fare_total\"]]\n",
    "by_type_df[\"rides_pct\"] = [row/by_type_df[\"rides_count\"].sum()  for row in by_type_df[\"rides_count\"]]\n",
    "by_type_df[\"driver_pct\"] = [row/by_type_df[\"driver_count\"].sum()  for row in by_type_df[\"driver_count\"]]\n",
    "\n",
    "by_type_df"
   ]
  },
  {
   "cell_type": "markdown",
   "metadata": {
    "collapsed": true
   },
   "source": [
    "## Total Fares by City Type"
   ]
  },
  {
   "cell_type": "code",
   "execution_count": 13,
   "metadata": {
    "collapsed": true
   },
   "outputs": [],
   "source": [
    "# Labels for slices\n",
    "slice_labels = by_type_df.index.tolist()\n",
    "\n",
    "# Set colors\n",
    "colors = [\"gold\", \"lightskyblue\", \"lightcoral\"]\n",
    "\n",
    "# Set up exlode\n",
    "explode = (0, 0, 0.05)"
   ]
  },
  {
   "cell_type": "code",
   "execution_count": 14,
   "metadata": {},
   "outputs": [
    {
     "data": {
      "image/png": "[encoded data removed]",
      "text/plain": [
       "<matplotlib.figure.Figure at 0x2224019ceb8>"
      ]
     },
     "metadata": {},
     "output_type": "display_data"
    }
   ],
   "source": [
    "# Set slice sizes\n",
    "fare_slices = by_type_df.fare_total\n",
    "\n",
    "# Plot it\n",
    "plt.pie(fare_slices, colors = colors, \n",
    "        labels=slice_labels, autopct=\"%1.1f%%\", \n",
    "        startangle=-60,\n",
    "        explode=explode, shadow=True, radius=1)\n",
    "plt.axis(\"equal\")\n",
    "\n",
    "# Title it\n",
    "plt.title(\"% of Total Fares by City Type\")\n",
    "\n",
    "# Show it\n",
    "plt.show()"
   ]
  },
  {
   "cell_type": "markdown",
   "metadata": {},
   "source": [
    "## Total Rides by CIty Type"
   ]
  },
  {
   "cell_type": "code",
   "execution_count": 15,
   "metadata": {
    "scrolled": true
   },
   "outputs": [
    {
     "data": {
      "image/png": "[encoded data removed]",
      "text/plain": [
       "<matplotlib.figure.Figure at 0x2224019c198>"
      ]
     },
     "metadata": {},
     "output_type": "display_data"
    }
   ],
   "source": [
    "# Set slice sizes\n",
    "rides_slices = by_type_df.rides_count\n",
    "\n",
    "# Plot it\n",
    "plt.pie(rides_slices, colors = colors, \n",
    "        labels=slice_labels, autopct=\"%1.1f%%\", \n",
    "        startangle=-50,\n",
    "        explode=explode, shadow=True, radius=1)\n",
    "plt.axis(\"equal\")\n",
    "\n",
    "# Title it\n",
    "plt.title(\"% of Total Rides by City Type\")\n",
    "\n",
    "# Show it\n",
    "plt.show()"
   ]
  },
  {
   "cell_type": "markdown",
   "metadata": {},
   "source": [
    "## Total Drivers by City Type"
   ]
  },
  {
   "cell_type": "code",
   "execution_count": 16,
   "metadata": {},
   "outputs": [
    {
     "data": {
      "image/png": "[encoded data removed]",
      "text/plain": [
       "<matplotlib.figure.Figure at 0x2224019c7b8>"
      ]
     },
     "metadata": {},
     "output_type": "display_data"
    }
   ],
   "source": [
    "# Set slice sizes\n",
    "drivers_slices = by_type_df.driver_count\n",
    "\n",
    "# Set a different explode\n",
    "explode2 = (0.1, 0.1, 0.1)\n",
    "\n",
    "# Plot it\n",
    "plt.pie(drivers_slices, colors = colors, \n",
    "        labels=slice_labels, autopct=\"%1.1f%%\", \n",
    "        startangle=-20,\n",
    "        explode=explode2, shadow=True, radius=1)\n",
    "plt.axis(\"equal\")\n",
    "\n",
    "# Title it\n",
    "plt.title(\"% of Total Drivers by City Type\")\n",
    "\n",
    "# Show it\n",
    "plt.show()"
   ]
  }
 ],
 "metadata": {
  "kernelspec": {
   "display_name": "Python 3",
   "language": "python",
   "name": "python3"
  },
  "language_info": {
   "codemirror_mode": {
    "name": "ipython",
    "version": 3
   },
   "file_extension": ".py",
   "mimetype": "text/x-python",
   "name": "python",
   "nbconvert_exporter": "python",
   "pygments_lexer": "ipython3",
   "version": "3.6.3"
  }
 },
 "nbformat": 4,
 "nbformat_minor": 2
}
